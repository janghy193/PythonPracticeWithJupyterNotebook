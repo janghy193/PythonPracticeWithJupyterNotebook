{
 "cells": [
  {
   "cell_type": "code",
   "execution_count": 2,
   "metadata": {},
   "outputs": [
    {
     "name": "stdout",
     "output_type": "stream",
     "text": [
      "a    12\n",
      "b    -4\n",
      "c     7\n",
      "d     9\n",
      "dtype: int64\n",
      "0번    1\n",
      "1번    2\n",
      "2번    3\n",
      "3번    4\n",
      "dtype: int32\n",
      "a    12\n",
      "b    -4\n",
      "c     7\n",
      "d     9\n",
      "dtype: int64\n",
      "99\n",
      "99\n"
     ]
    }
   ],
   "source": [
    "import pandas as pd\n",
    "import numpy as np\n",
    "s = pd.Series([12,-4,7,9], index=['a','b','c','d'])\n",
    "print(s[:])\n",
    "\n",
    "arr = np.array([1,2,3,4])\n",
    "s2 = pd.Series(arr,index=['0번','1번','2번','3번'])\n",
    "print(s2)\n",
    "\n",
    "s3 = pd.Series(s)\n",
    "print(s3)\n",
    "s3[0] = 99\n",
    "print(s[0]) # S3는 S의 view\n",
    "\n",
    "arr[0]=99\n",
    "print(s2[0])"
   ]
  },
  {
   "cell_type": "markdown",
   "metadata": {},
   "source": [
    "<h2>Series 테스트</h2>\n",
    "<br>\n",
    "Series객체에 이용자 정보를 저장한다(num, name, phone)<br>\n",
    "위에서 생성된 객체를 이용하여 다른 Series 객체를 생성한다<br>\n",
    "두번째 생성된 객체의 이름을 변경한다<br>\n",
    "이들 2개의 객체의 내용을 화면에 표시한다"
   ]
  },
  {
   "cell_type": "code",
   "execution_count": 31,
   "metadata": {},
   "outputs": [
    {
     "name": "stdout",
     "output_type": "stream",
     "text": [
      "member:\n",
      "num                 11\n",
      "name             smith\n",
      "phone    010-2345-5432\n",
      "dtype: object\n",
      "\n",
      "----member로 memCopy Series생성\n",
      "num                 11\n",
      "name             smith\n",
      "phone    010-2345-5432\n",
      "dtype: object\n",
      "\n",
      "----memCopy이름 Mr.Smith로 바꿈\n",
      "num                 11\n",
      "name          Mr.Smith\n",
      "phone    010-2345-5432\n",
      "dtype: object\n",
      "\n",
      "member:\n",
      "num                 11\n",
      "name          Mr.Smith\n",
      "phone    010-2345-5432\n",
      "dtype: object\n",
      "num            11\n",
      "name     Mr.Smith\n",
      "phone          없음\n",
      "dtype: object\n"
     ]
    },
    {
     "data": {
      "text/plain": [
       "'010-2345-5432'"
      ]
     },
     "execution_count": 31,
     "metadata": {},
     "output_type": "execute_result"
    }
   ],
   "source": [
    "member = pd.Series([11,'smith','010-2345-5432'],index=['num','name','phone'])\n",
    "print(f'member:\\n{member}\\n')\n",
    "\n",
    "memCopy = pd.Series(member)\n",
    "print(f'----member로 memCopy Series생성\\n{memCopy}\\n')\n",
    "memCopy['name'] = 'Mr.Smith'\n",
    "print(f'----memCopy이름 Mr.Smith로 바꿈\\n{memCopy}\\n')\n",
    "print(f'member:\\n{member}')   # 이름 바뀜\n",
    "dCopy= member.copy()\n",
    "dCopy['phone'] = '없음'\n",
    "print(dCopy)\n",
    "member['phone']"
   ]
  },
  {
   "cell_type": "markdown",
   "metadata": {},
   "source": [
    "<h2>Series와 NumPy Array</h2>\n",
    "<br>\n",
    "numpy 배열을 전달하여 Series 객체를 생성하고<br>\n",
    "생성된 Series 객체를 사용하여 데이터를 변경한 후<br>\n",
    "numpy 배열의 원소를 화면에 표시하여 변경여부를 확인해보세요"
   ]
  },
  {
   "cell_type": "code",
   "execution_count": 4,
   "metadata": {},
   "outputs": [
    {
     "name": "stdout",
     "output_type": "stream",
     "text": [
      "[99  2  3  4]\n"
     ]
    }
   ],
   "source": [
    "npa = np.array([1,2,3,4])\n",
    "pds = pd.Series(npa)   # Shallow Copy\n",
    "pds[0] = 99\n",
    "print(npa)"
   ]
  },
  {
   "cell_type": "markdown",
   "metadata": {},
   "source": [
    "<h1>Histogram</h1>"
   ]
  },
  {
   "cell_type": "code",
   "execution_count": 7,
   "metadata": {},
   "outputs": [
    {
     "data": {
      "image/png": "[encoded data removed]",
      "text/plain": [
       "<Figure size 432x288 with 1 Axes>"
      ]
     },
     "metadata": {
      "needs_background": "light"
     },
     "output_type": "display_data"
    }
   ],
   "source": [
    "arr = np.random.randint(1,11,100) # 많을 수록 고른 분포를 보임\n",
    "import matplotlib.pyplot as plt\n",
    "plt.hist(arr,bins=10)\n",
    "plt.show()"
   ]
  },
  {
   "cell_type": "markdown",
   "metadata": {},
   "source": [
    "<h1>Series - 값 골라내기</h1>\n",
    "<br>\n",
    "Series 객체에 무작위 정수 10개를 포함하고 그 중에서 홀수만 골라서 0으로 설정"
   ]
  },
  {
   "cell_type": "code",
   "execution_count": 27,
   "metadata": {},
   "outputs": [
    {
     "name": "stdout",
     "output_type": "stream",
     "text": [
      "상위10개 항목\n",
      " 0    59\n",
      "1    53\n",
      "2    92\n",
      "3    16\n",
      "4     5\n",
      "5    51\n",
      "6    19\n",
      "7    53\n",
      "8    45\n",
      "9    54\n",
      "dtype: int32\n",
      "상위10개 항목\n",
      " 0     0\n",
      "1     0\n",
      "2    92\n",
      "3    16\n",
      "4     0\n",
      "5     0\n",
      "6     0\n",
      "7     0\n",
      "8     0\n",
      "9    54\n",
      "dtype: int32\n"
     ]
    },
    {
     "data": {
      "image/png": "[encoded data removed]",
      "text/plain": [
       "<Figure size 432x288 with 1 Axes>"
      ]
     },
     "metadata": {
      "needs_background": "light"
     },
     "output_type": "display_data"
    }
   ],
   "source": [
    "rand = pd.Series(np.random.randint(1,101,1000))\n",
    "print('상위10개 항목\\n',rand[:10])\n",
    "rand[rand%2!=0] = 0\n",
    "print('상위10개 항목\\n',rand[:10])\n",
    "plt.hist(rand)\n",
    "plt.show()"
   ]
  },
  {
   "cell_type": "code",
   "execution_count": 30,
   "metadata": {},
   "outputs": [
    {
     "data": {
      "text/plain": [
       "0    False\n",
       "1    False\n",
       "2     True\n",
       "3    False\n",
       "dtype: bool"
      ]
     },
     "execution_count": 30,
     "metadata": {},
     "output_type": "execute_result"
    }
   ],
   "source": [
    "s2 = pd.Series([5,-3,np.NaN,14])\n",
    "s2.isnull()"
   ]
  },
  {
   "cell_type": "markdown",
   "metadata": {},
   "source": [
    "<h2>Series Boolean Indexing</h2>\n",
    "<br>\n",
    "무작위 정수 5개로 구성된 Series에서 짝수들을 선택하여 NaN으로 설정하고<br>\n",
    "이어서 NaN으로 설정된 값들을 선택하여 0으로 변경한다"
   ]
  },
  {
   "cell_type": "code",
   "execution_count": 37,
   "metadata": {},
   "outputs": [
    {
     "name": "stdout",
     "output_type": "stream",
     "text": [
      "0    69\n",
      "1    33\n",
      "2    56\n",
      "3    48\n",
      "4     2\n",
      "dtype: int32\n",
      "0     NaN\n",
      "1     NaN\n",
      "2    56.0\n",
      "3    48.0\n",
      "4     2.0\n",
      "dtype: float64\n",
      "0     0.0\n",
      "1     0.0\n",
      "2    56.0\n",
      "3    48.0\n",
      "4     2.0\n",
      "dtype: float64\n"
     ]
    }
   ],
   "source": [
    "t = pd.Series(np.random.randint(1,101,5))\n",
    "print(t)\n",
    "t[t%2==1] = np.NaN\n",
    "print(t)\n",
    "t[t.isnull()] = 0\n",
    "print(t)"
   ]
  },
  {
   "cell_type": "markdown",
   "metadata": {},
   "source": [
    "<h1>DataFrame(Pandas)</h1>"
   ]
  },
  {
   "cell_type": "code",
   "execution_count": 83,
   "metadata": {},
   "outputs": [
    {
     "data": {
      "text/html": [
       "<div>\n",
       "<style scoped>\n",
       "    .dataframe tbody tr th:only-of-type {\n",
       "        vertical-align: middle;\n",
       "    }\n",
       "\n",
       "    .dataframe tbody tr th {\n",
       "        vertical-align: top;\n",
       "    }\n",
       "\n",
       "    .dataframe thead th {\n",
       "        text-align: right;\n",
       "    }\n",
       "</style>\n",
       "<table border=\"1\" class=\"dataframe\">\n",
       "  <thead>\n",
       "    <tr style=\"text-align: right;\">\n",
       "      <th></th>\n",
       "      <th>c1</th>\n",
       "      <th>c2</th>\n",
       "    </tr>\n",
       "  </thead>\n",
       "  <tbody>\n",
       "    <tr>\n",
       "      <th>111</th>\n",
       "      <td>11</td>\n",
       "      <td>NaN</td>\n",
       "    </tr>\n",
       "    <tr>\n",
       "      <th>112</th>\n",
       "      <td>22</td>\n",
       "      <td>32.0</td>\n",
       "    </tr>\n",
       "    <tr>\n",
       "      <th>114</th>\n",
       "      <td>33</td>\n",
       "      <td>44.0</td>\n",
       "    </tr>\n",
       "    <tr>\n",
       "      <th>113</th>\n",
       "      <td>44</td>\n",
       "      <td>34.0</td>\n",
       "    </tr>\n",
       "  </tbody>\n",
       "</table>\n",
       "</div>"
      ],
      "text/plain": [
       "     c1    c2\n",
       "111  11   NaN\n",
       "112  22  32.0\n",
       "114  33  44.0\n",
       "113  44  34.0"
      ]
     },
     "execution_count": 83,
     "metadata": {},
     "output_type": "execute_result"
    }
   ],
   "source": [
    "df = pd.DataFrame(np.arange(0,16).reshape(4,4))\n",
    "df.index = ['A','B','C','D']\n",
    "df.columns = ['W','X','Y','Z']\n",
    "y = df['Y']\n",
    "tt = df.loc[['A','B']]\n",
    "tt\n",
    "\n",
    "dict1 = {'c1':{111:11, 112:22, 114:33, 113:44},'c2':{112:32, 113:34, 114:44}}\n",
    "df2 = pd.DataFrame(dict1)\n",
    "df2\n"
   ]
  },
  {
   "cell_type": "markdown",
   "metadata": {},
   "source": [
    "<h1>Reindexing</h1>\n",
    "<br>\n",
    "W,X,Y,Z 컬럼을 가진 DataFrame에 V 컬럼을 추가하면서 reindex를 적용해보세요.<br>\n",
    "인덱스는 변경하지 않고 새 컬럼이 추가될 때 옆 컬럼에서 값을 복사하는 방법을 사용해보세요.<br>\n",
    "frame.reindex(None, method = 'bfill혹은 ffill', columns=['V','W','X','Y','Z'])"
   ]
  },
  {
   "cell_type": "code",
   "execution_count": 95,
   "metadata": {},
   "outputs": [
    {
     "ename": "ValueError",
     "evalue": "DataFrame constructor not properly called!",
     "output_type": "error",
     "traceback": [
      "\u001b[1;31m---------------------------------------------------------------------------\u001b[0m",
      "\u001b[1;31mValueError\u001b[0m                                Traceback (most recent call last)",
      "\u001b[1;32m<ipython-input-95-62ac80b52ced>\u001b[0m in \u001b[0;36m<module>\u001b[1;34m\u001b[0m\n\u001b[0;32m      1\u001b[0m \u001b[0mdf\u001b[0m \u001b[1;33m=\u001b[0m \u001b[0mpd\u001b[0m\u001b[1;33m.\u001b[0m\u001b[0mDataFrame\u001b[0m\u001b[1;33m(\u001b[0m\u001b[0mnp\u001b[0m\u001b[1;33m.\u001b[0m\u001b[0marange\u001b[0m\u001b[1;33m(\u001b[0m\u001b[1;36m0\u001b[0m\u001b[1;33m,\u001b[0m\u001b[1;36m16\u001b[0m\u001b[1;33m)\u001b[0m\u001b[1;33m.\u001b[0m\u001b[0mreshape\u001b[0m\u001b[1;33m(\u001b[0m\u001b[1;36m4\u001b[0m\u001b[1;33m,\u001b[0m\u001b[1;36m4\u001b[0m\u001b[1;33m)\u001b[0m\u001b[1;33m)\u001b[0m\u001b[1;33m\u001b[0m\u001b[1;33m\u001b[0m\u001b[0m\n\u001b[0;32m      2\u001b[0m \u001b[0mdf\u001b[0m\u001b[1;33m.\u001b[0m\u001b[0mcolumns\u001b[0m \u001b[1;33m=\u001b[0m \u001b[1;33m[\u001b[0m\u001b[1;34m'W'\u001b[0m\u001b[1;33m,\u001b[0m\u001b[1;34m'X'\u001b[0m\u001b[1;33m,\u001b[0m\u001b[1;34m'Y'\u001b[0m\u001b[1;33m,\u001b[0m\u001b[1;34m'Z'\u001b[0m\u001b[1;33m]\u001b[0m\u001b[1;33m\u001b[0m\u001b[1;33m\u001b[0m\u001b[0m\n\u001b[1;32m----> 3\u001b[1;33m \u001b[0mdf2\u001b[0m \u001b[1;33m=\u001b[0m \u001b[0mpd\u001b[0m\u001b[1;33m.\u001b[0m\u001b[0mDataFrame\u001b[0m\u001b[1;33m(\u001b[0m\u001b[1;36m2\u001b[0m\u001b[1;33m)\u001b[0m\u001b[1;33m\u001b[0m\u001b[1;33m\u001b[0m\u001b[0m\n\u001b[0m\u001b[0;32m      4\u001b[0m \u001b[0mdf2\u001b[0m\u001b[1;33m.\u001b[0m\u001b[0mcolumns\u001b[0m \u001b[1;33m=\u001b[0m \u001b[1;33m[\u001b[0m\u001b[1;34m'W'\u001b[0m\u001b[1;33m,\u001b[0m\u001b[1;34m'X'\u001b[0m\u001b[1;33m,\u001b[0m\u001b[1;34m'Y'\u001b[0m\u001b[1;33m,\u001b[0m\u001b[1;34m'Z'\u001b[0m\u001b[1;33m]\u001b[0m\u001b[1;33m\u001b[0m\u001b[1;33m\u001b[0m\u001b[0m\n\u001b[0;32m      5\u001b[0m \u001b[0mdf\u001b[0m\u001b[1;33m.\u001b[0m\u001b[0mreindex\u001b[0m\u001b[1;33m(\u001b[0m\u001b[1;32mNone\u001b[0m\u001b[1;33m,\u001b[0m \u001b[0mmethod\u001b[0m\u001b[1;33m=\u001b[0m\u001b[1;34m'bfill'\u001b[0m\u001b[1;33m,\u001b[0m\u001b[0mcolumns\u001b[0m\u001b[1;33m=\u001b[0m\u001b[1;33m[\u001b[0m\u001b[1;34m'V'\u001b[0m\u001b[1;33m,\u001b[0m\u001b[1;34m'W'\u001b[0m\u001b[1;33m,\u001b[0m\u001b[1;34m'X'\u001b[0m\u001b[1;33m,\u001b[0m\u001b[1;34m'Y'\u001b[0m\u001b[1;33m,\u001b[0m\u001b[1;34m'Z'\u001b[0m\u001b[1;33m]\u001b[0m\u001b[1;33m)\u001b[0m\u001b[1;33m\u001b[0m\u001b[1;33m\u001b[0m\u001b[0m\n",
      "\u001b[1;32mC:\\ProgramData\\Anaconda3\\lib\\site-packages\\pandas\\core\\frame.py\u001b[0m in \u001b[0;36m__init__\u001b[1;34m(self, data, index, columns, dtype, copy)\u001b[0m\n\u001b[0;32m    527\u001b[0m         \u001b[1;32melse\u001b[0m\u001b[1;33m:\u001b[0m\u001b[1;33m\u001b[0m\u001b[1;33m\u001b[0m\u001b[0m\n\u001b[0;32m    528\u001b[0m             \u001b[1;32mif\u001b[0m \u001b[0mindex\u001b[0m \u001b[1;32mis\u001b[0m \u001b[1;32mNone\u001b[0m \u001b[1;32mor\u001b[0m \u001b[0mcolumns\u001b[0m \u001b[1;32mis\u001b[0m \u001b[1;32mNone\u001b[0m\u001b[1;33m:\u001b[0m\u001b[1;33m\u001b[0m\u001b[1;33m\u001b[0m\u001b[0m\n\u001b[1;32m--> 529\u001b[1;33m                 \u001b[1;32mraise\u001b[0m \u001b[0mValueError\u001b[0m\u001b[1;33m(\u001b[0m\u001b[1;34m\"DataFrame constructor not properly called!\"\u001b[0m\u001b[1;33m)\u001b[0m\u001b[1;33m\u001b[0m\u001b[1;33m\u001b[0m\u001b[0m\n\u001b[0m\u001b[0;32m    530\u001b[0m \u001b[1;33m\u001b[0m\u001b[0m\n\u001b[0;32m    531\u001b[0m             \u001b[1;32mif\u001b[0m \u001b[1;32mnot\u001b[0m \u001b[0mdtype\u001b[0m\u001b[1;33m:\u001b[0m\u001b[1;33m\u001b[0m\u001b[1;33m\u001b[0m\u001b[0m\n",
      "\u001b[1;31mValueError\u001b[0m: DataFrame constructor not properly called!"
     ]
    }
   ],
   "source": [
    "df = pd.DataFrame(np.arange(0,16).reshape(4,4))\n",
    "df.columns = ['W','X','Y','Z']\n",
    "df2 = pd.DataFrame()\n",
    "df2.columns = ['W','X','Y','Z']\n",
    "df.reindex(None, method='bfill',columns=['V','W','X','Y','Z'])\n",
    "s = pd.Series(1,index=['W','X','Y','Z'])\n",
    "df+df2"
   ]
  }
 ],
 "metadata": {
  "kernelspec": {
   "display_name": "Python 3",
   "language": "python",
   "name": "python3"
  },
  "language_info": {
   "codemirror_mode": {
    "name": "ipython",
    "version": 3
   },
   "file_extension": ".py",
   "mimetype": "text/x-python",
   "name": "python",
   "nbconvert_exporter": "python",
   "pygments_lexer": "ipython3",
   "version": "3.8.5"
  }
 },
 "nbformat": 4,
 "nbformat_minor": 4
}
