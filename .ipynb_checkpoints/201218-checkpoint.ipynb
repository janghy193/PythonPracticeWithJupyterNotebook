{
 "cells": [
  {
   "cell_type": "markdown",
   "metadata": {},
   "source": [
    "<h1>DataFrame Apply 실습</h1>\n",
    "<br>\n",
    "0~15 사이의 숫자로 4x4 행렬을 생성하고 DataFrame을 생성한 후에<br>\n",
    "각 행의 평균을 구하여 표시해보세요.<br>\n",
    "DataFrame의 apply()함수를 사용하면 됩니다"
   ]
  },
  {
   "cell_type": "code",
   "execution_count": 37,
   "metadata": {},
   "outputs": [
    {
     "name": "stdout",
     "output_type": "stream",
     "text": [
      "A    2.0\n",
      "B    3.0\n",
      "C    1.0\n",
      "D    4.5\n",
      "E    4.5\n",
      "dtype: float64\n",
      "A    2.0\n",
      "B    3.0\n",
      "C    1.0\n",
      "D    4.0\n",
      "E    5.0\n",
      "dtype: float64\n"
     ]
    }
   ],
   "source": [
    "import pandas as pd\n",
    "import numpy as np\n",
    "\n",
    "df = pd.DataFrame(np.arange(0,16).reshape(4,4),columns=['W','X','Y','Z'])\n",
    "df.apply(lambda x:x.mean(),axis=1)\n",
    "\n",
    "# 각 컬럼의 분산과 표준편차를 구해서 Series에 저장하여 화면에 표시하시오\n",
    "# 분산 : 편차의 제곱의 합\n",
    "\n",
    "v = df.apply(lambda x:np.var(x))\n",
    "resS = pd.DataFrame([v,np.sqrt(v)],index=['Var','Std'])\n",
    "resS\n",
    "\n",
    "def var_std(c):\n",
    "    return pd.Series([np.var(c), np.std(c)], index=['분산','표준편차'])\n",
    "df.apply(var_std)\n",
    "\n",
    "# rank() method 파라미터 테스트\n",
    "print(pd.Series([12,13,11,14,14], index=['A','B','C','D','E']).rank())\n",
    "print(pd.Series([12,13,11,14,14], index=['A','B','C','D','E']).rank(method='first'))"
   ]
  },
  {
   "cell_type": "markdown",
   "metadata": {},
   "source": [
    "<h2>공분산, 상관관계</h2>"
   ]
  },
  {
   "cell_type": "code",
   "execution_count": 179,
   "metadata": {},
   "outputs": [
    {
     "name": "stdout",
     "output_type": "stream",
     "text": [
      "X의 평균: 52.79\n",
      "Y의 평균: 53.1\n"
     ]
    },
    {
     "data": {
      "image/png": "[encoded data removed]",
      "text/plain": [
       "<Figure size 432x288 with 1 Axes>"
      ]
     },
     "metadata": {
      "needs_background": "light"
     },
     "output_type": "display_data"
    },
    {
     "name": "stdout",
     "output_type": "stream",
     "text": [
      "공분산 : -959.4390000000001 , 피어슨 상관계수: -0.5433212948677056\n"
     ]
    }
   ],
   "source": [
    "import matplotlib.pyplot as plt\n",
    "\n",
    "X = np.array(np.arange(0,100)+np.random.randint(-60,60,100))\n",
    "Y = np.array(np.arange(0,100)*(-1)+100+np.random.randint(-30,30,100))\n",
    "print('X의 평균:',X.mean())\n",
    "print('Y의 평균:',Y.mean())\n",
    "plt.plot(X,Y,linestyle='none',marker='o',markersize=2, color='gray')\n",
    "plt.plot(X.mean(),Y.mean(),linestyle='none',marker='*',markersize=10,color='blue')\n",
    "plt.show()\n",
    "\n",
    "cov = np.mean((X-X.mean())*(Y-Y.mean()))\n",
    "cor = cov/(X.std(ddof=0)*Y.std(ddof=0))\n",
    "print('공분산 :',cov,', 피어슨 상관계수:',cor)"
   ]
  },
  {
   "cell_type": "markdown",
   "metadata": {},
   "source": [
    "<h2>공분산행렬, 상관계수행렬</h2>"
   ]
  },
  {
   "cell_type": "code",
   "execution_count": 173,
   "metadata": {},
   "outputs": [
    {
     "name": "stdout",
     "output_type": "stream",
     "text": [
      "공분산행렬:\n",
      " [[2100.98989899 -897.53535354]\n",
      " [-897.53535354 1233.36111111]]\n",
      "상관계수행렬:\n",
      " [[ 1.         -0.55756366]\n",
      " [-0.55756366  1.        ]]\n"
     ]
    },
    {
     "data": {
      "text/html": [
       "<div>\n",
       "<style scoped>\n",
       "    .dataframe tbody tr th:only-of-type {\n",
       "        vertical-align: middle;\n",
       "    }\n",
       "\n",
       "    .dataframe tbody tr th {\n",
       "        vertical-align: top;\n",
       "    }\n",
       "\n",
       "    .dataframe thead th {\n",
       "        text-align: right;\n",
       "    }\n",
       "</style>\n",
       "<table border=\"1\" class=\"dataframe\">\n",
       "  <thead>\n",
       "    <tr style=\"text-align: right;\">\n",
       "      <th></th>\n",
       "      <th>0</th>\n",
       "      <th>1</th>\n",
       "      <th>2</th>\n",
       "      <th>3</th>\n",
       "      <th>4</th>\n",
       "      <th>5</th>\n",
       "      <th>6</th>\n",
       "      <th>7</th>\n",
       "      <th>8</th>\n",
       "      <th>9</th>\n",
       "    </tr>\n",
       "  </thead>\n",
       "  <tbody>\n",
       "    <tr>\n",
       "      <th>0</th>\n",
       "      <td>1.000000</td>\n",
       "      <td>0.421226</td>\n",
       "      <td>0.646480</td>\n",
       "      <td>0.593586</td>\n",
       "      <td>0.530713</td>\n",
       "      <td>0.384376</td>\n",
       "      <td>0.430590</td>\n",
       "      <td>0.305105</td>\n",
       "      <td>0.673706</td>\n",
       "      <td>0.554067</td>\n",
       "    </tr>\n",
       "    <tr>\n",
       "      <th>1</th>\n",
       "      <td>0.421226</td>\n",
       "      <td>1.000000</td>\n",
       "      <td>0.553180</td>\n",
       "      <td>0.489319</td>\n",
       "      <td>0.234448</td>\n",
       "      <td>0.518075</td>\n",
       "      <td>0.683064</td>\n",
       "      <td>0.462663</td>\n",
       "      <td>0.368540</td>\n",
       "      <td>0.487474</td>\n",
       "    </tr>\n",
       "    <tr>\n",
       "      <th>2</th>\n",
       "      <td>0.646480</td>\n",
       "      <td>0.553180</td>\n",
       "      <td>1.000000</td>\n",
       "      <td>0.652547</td>\n",
       "      <td>0.527496</td>\n",
       "      <td>0.738564</td>\n",
       "      <td>0.439919</td>\n",
       "      <td>0.584596</td>\n",
       "      <td>0.727945</td>\n",
       "      <td>0.673486</td>\n",
       "    </tr>\n",
       "    <tr>\n",
       "      <th>3</th>\n",
       "      <td>0.593586</td>\n",
       "      <td>0.489319</td>\n",
       "      <td>0.652547</td>\n",
       "      <td>1.000000</td>\n",
       "      <td>0.565945</td>\n",
       "      <td>0.643591</td>\n",
       "      <td>0.308464</td>\n",
       "      <td>0.374271</td>\n",
       "      <td>0.711147</td>\n",
       "      <td>0.696334</td>\n",
       "    </tr>\n",
       "    <tr>\n",
       "      <th>4</th>\n",
       "      <td>0.530713</td>\n",
       "      <td>0.234448</td>\n",
       "      <td>0.527496</td>\n",
       "      <td>0.565945</td>\n",
       "      <td>1.000000</td>\n",
       "      <td>0.532600</td>\n",
       "      <td>0.489806</td>\n",
       "      <td>0.502483</td>\n",
       "      <td>0.581455</td>\n",
       "      <td>0.537734</td>\n",
       "    </tr>\n",
       "    <tr>\n",
       "      <th>5</th>\n",
       "      <td>0.384376</td>\n",
       "      <td>0.518075</td>\n",
       "      <td>0.738564</td>\n",
       "      <td>0.643591</td>\n",
       "      <td>0.532600</td>\n",
       "      <td>1.000000</td>\n",
       "      <td>0.276130</td>\n",
       "      <td>0.510045</td>\n",
       "      <td>0.715494</td>\n",
       "      <td>0.688681</td>\n",
       "    </tr>\n",
       "    <tr>\n",
       "      <th>6</th>\n",
       "      <td>0.430590</td>\n",
       "      <td>0.683064</td>\n",
       "      <td>0.439919</td>\n",
       "      <td>0.308464</td>\n",
       "      <td>0.489806</td>\n",
       "      <td>0.276130</td>\n",
       "      <td>1.000000</td>\n",
       "      <td>0.439266</td>\n",
       "      <td>0.226283</td>\n",
       "      <td>0.252399</td>\n",
       "    </tr>\n",
       "    <tr>\n",
       "      <th>7</th>\n",
       "      <td>0.305105</td>\n",
       "      <td>0.462663</td>\n",
       "      <td>0.584596</td>\n",
       "      <td>0.374271</td>\n",
       "      <td>0.502483</td>\n",
       "      <td>0.510045</td>\n",
       "      <td>0.439266</td>\n",
       "      <td>1.000000</td>\n",
       "      <td>0.292869</td>\n",
       "      <td>0.698562</td>\n",
       "    </tr>\n",
       "    <tr>\n",
       "      <th>8</th>\n",
       "      <td>0.673706</td>\n",
       "      <td>0.368540</td>\n",
       "      <td>0.727945</td>\n",
       "      <td>0.711147</td>\n",
       "      <td>0.581455</td>\n",
       "      <td>0.715494</td>\n",
       "      <td>0.226283</td>\n",
       "      <td>0.292869</td>\n",
       "      <td>1.000000</td>\n",
       "      <td>0.609761</td>\n",
       "    </tr>\n",
       "    <tr>\n",
       "      <th>9</th>\n",
       "      <td>0.554067</td>\n",
       "      <td>0.487474</td>\n",
       "      <td>0.673486</td>\n",
       "      <td>0.696334</td>\n",
       "      <td>0.537734</td>\n",
       "      <td>0.688681</td>\n",
       "      <td>0.252399</td>\n",
       "      <td>0.698562</td>\n",
       "      <td>0.609761</td>\n",
       "      <td>1.000000</td>\n",
       "    </tr>\n",
       "  </tbody>\n",
       "</table>\n",
       "</div>"
      ],
      "text/plain": [
       "          0         1         2         3         4         5         6         7         8         9\n",
       "0  1.000000  0.421226  0.646480  0.593586  0.530713  0.384376  0.430590  0.305105  0.673706  0.554067\n",
       "1  0.421226  1.000000  0.553180  0.489319  0.234448  0.518075  0.683064  0.462663  0.368540  0.487474\n",
       "2  0.646480  0.553180  1.000000  0.652547  0.527496  0.738564  0.439919  0.584596  0.727945  0.673486\n",
       "3  0.593586  0.489319  0.652547  1.000000  0.565945  0.643591  0.308464  0.374271  0.711147  0.696334\n",
       "4  0.530713  0.234448  0.527496  0.565945  1.000000  0.532600  0.489806  0.502483  0.581455  0.537734\n",
       "5  0.384376  0.518075  0.738564  0.643591  0.532600  1.000000  0.276130  0.510045  0.715494  0.688681\n",
       "6  0.430590  0.683064  0.439919  0.308464  0.489806  0.276130  1.000000  0.439266  0.226283  0.252399\n",
       "7  0.305105  0.462663  0.584596  0.374271  0.502483  0.510045  0.439266  1.000000  0.292869  0.698562\n",
       "8  0.673706  0.368540  0.727945  0.711147  0.581455  0.715494  0.226283  0.292869  1.000000  0.609761\n",
       "9  0.554067  0.487474  0.673486  0.696334  0.537734  0.688681  0.252399  0.698562  0.609761  1.000000"
      ]
     },
     "execution_count": 173,
     "metadata": {},
     "output_type": "execute_result"
    }
   ],
   "source": [
    "X = pd.Series(np.arange(0,100)+np.random.randint(-60,60,100))\n",
    "Y = pd.Series(np.arange(0,100)*(-1)+100+np.random.randint(-30,30,100))\n",
    "data = np.concatenate((X,Y)).reshape(20,10)\n",
    "df = pd.DataFrame(data)\n",
    "print('공분산행렬:\\n',np.cov(X,Y))\n",
    "print('상관계수행렬:\\n',np.corrcoef(X,Y))\n",
    "df2 = df.T\n",
    "df.corr()"
   ]
  },
  {
   "cell_type": "markdown",
   "metadata": {},
   "source": [
    "<h2>2차원 index 가진 Series와 DataFrame 전환</h2>\n",
    "<br>\n",
    "주 인덱스 : A동, B동, C동<br>\n",
    "하위 인덱스 : 1층, 2층, 3층    1층, 2층    1층,2층,3층,4층<br>"
   ]
  },
  {
   "cell_type": "code",
   "execution_count": 187,
   "metadata": {},
   "outputs": [
    {
     "name": "stdout",
     "output_type": "stream",
     "text": [
      "Adong  1stF    874\n",
      "       2ndF    858\n",
      "       3rdF    535\n",
      "Bdong  1stF    676\n",
      "       2ndF    994\n",
      "Cdong  1stF    865\n",
      "       2ndF    324\n",
      "       3rdF    520\n",
      "       4thF    550\n",
      "dtype: int32\n",
      "Adong  1stF    874.0\n",
      "       2ndF    858.0\n",
      "       3rdF    535.0\n",
      "Bdong  1stF    676.0\n",
      "       2ndF    994.0\n",
      "Cdong  1stF    865.0\n",
      "       2ndF    324.0\n",
      "       3rdF    520.0\n",
      "       4thF    550.0\n",
      "dtype: float64\n"
     ]
    },
    {
     "data": {
      "text/html": [
       "<div>\n",
       "<style scoped>\n",
       "    .dataframe tbody tr th:only-of-type {\n",
       "        vertical-align: middle;\n",
       "    }\n",
       "\n",
       "    .dataframe tbody tr th {\n",
       "        vertical-align: top;\n",
       "    }\n",
       "\n",
       "    .dataframe thead th {\n",
       "        text-align: right;\n",
       "    }\n",
       "</style>\n",
       "<table border=\"1\" class=\"dataframe\">\n",
       "  <thead>\n",
       "    <tr style=\"text-align: right;\">\n",
       "      <th></th>\n",
       "      <th>1stF</th>\n",
       "      <th>2ndF</th>\n",
       "      <th>3rdF</th>\n",
       "      <th>4thF</th>\n",
       "    </tr>\n",
       "  </thead>\n",
       "  <tbody>\n",
       "    <tr>\n",
       "      <th>Adong</th>\n",
       "      <td>874.0</td>\n",
       "      <td>858.0</td>\n",
       "      <td>535.0</td>\n",
       "      <td>NaN</td>\n",
       "    </tr>\n",
       "    <tr>\n",
       "      <th>Bdong</th>\n",
       "      <td>676.0</td>\n",
       "      <td>994.0</td>\n",
       "      <td>NaN</td>\n",
       "      <td>NaN</td>\n",
       "    </tr>\n",
       "    <tr>\n",
       "      <th>Cdong</th>\n",
       "      <td>865.0</td>\n",
       "      <td>324.0</td>\n",
       "      <td>520.0</td>\n",
       "      <td>550.0</td>\n",
       "    </tr>\n",
       "  </tbody>\n",
       "</table>\n",
       "</div>"
      ],
      "text/plain": [
       "        1stF   2ndF   3rdF   4thF\n",
       "Adong  874.0  858.0  535.0    NaN\n",
       "Bdong  676.0  994.0    NaN    NaN\n",
       "Cdong  865.0  324.0  520.0  550.0"
      ]
     },
     "execution_count": 187,
     "metadata": {},
     "output_type": "execute_result"
    }
   ],
   "source": [
    "ser = pd.Series(np.random.randint(0,1000,9),index = [['Adong','Adong','Adong','Bdong','Bdong','Cdong','Cdong','Cdong','Cdong'],['1stF','2ndF','3rdF','1stF','2ndF','1stF','2ndF','3rdF','4thF']])\n",
    "print(ser)\n",
    "df = ser.unstack()\n",
    "ser2 = df.stack()\n",
    "print(ser2)\n",
    "df"
   ]
  },
  {
   "cell_type": "markdown",
   "metadata": {},
   "source": [
    "<h2>CRUD</h2>\n",
    "<br>\n",
    "DataFrame에 5명분의 회원정보를 저장하고 관리하기(CRUD)<br>\n",
    "목록(s),검색(f),추가(a),수정(u),삭제(d),종료(x)<br>\n",
    "- 파일과 무관<br>\n",
    "- df.append()를 사용하면 추가할 수 있음"
   ]
  },
  {
   "cell_type": "code",
   "execution_count": 221,
   "metadata": {},
   "outputs": [
    {
     "name": "stdout",
     "output_type": "stream",
     "text": [
      "\n",
      "----명령어를 입력하세요(목록-s, 검색-f, 추가-a, 수정-u, 삭제-d, 종료-x): f\n",
      "<<<<멤버 검색>>>>\n",
      " 번호로 검색하시려면 1, 부서로 검색하시려면 2를 입력하세요:2\n",
      " 검색할 부서명을 입력하세요 :fw\n",
      "\n",
      "-----fw부서 명단------\n",
      "fw 7 Son 3000\n",
      "fw 10 Kane 3000\n",
      "평균급여:3000.0\n",
      "급여합계:6000\n",
      "\n",
      "----명령어를 입력하세요(목록-s, 검색-f, 추가-a, 수정-u, 삭제-d, 종료-x): u\n",
      "<<<<멤버 수정>>>>\n",
      " 수정할 번호를 입력하세요 :20\n",
      " 변경할 이름과 부서, 급여를 띄어서 입력하세요\n",
      "Ali fw 2200\n"
     ]
    },
    {
     "name": "stderr",
     "output_type": "stream",
     "text": [
      "<ipython-input-221-80de82fac832>:46: SettingWithCopyWarning: \n",
      "A value is trying to be set on a copy of a slice from a DataFrame\n",
      "\n",
      "See the caveats in the documentation: https://pandas.pydata.org/pandas-docs/stable/user_guide/indexing.html#returning-a-view-versus-a-copy\n",
      "  tot.loc[ind]['이름'], tot.loc[ind]['부서'] = info.split(' ')[0:2]\n",
      "<ipython-input-221-80de82fac832>:47: SettingWithCopyWarning: \n",
      "A value is trying to be set on a copy of a slice from a DataFrame\n",
      "\n",
      "See the caveats in the documentation: https://pandas.pydata.org/pandas-docs/stable/user_guide/indexing.html#returning-a-view-versus-a-copy\n",
      "  tot.loc[ind]['급여'] = int(info.split(' ')[2])\n"
     ]
    },
    {
     "name": "stdout",
     "output_type": "stream",
     "text": [
      "수정 완료!\n",
      "\n",
      "----명령어를 입력하세요(목록-s, 검색-f, 추가-a, 수정-u, 삭제-d, 종료-x): s\n",
      "   번호            이름  부서    급여\n",
      "0   7           Son  fw  3000\n",
      "1  10          Kane  fw  3000\n",
      "2  20           Ali  mf  1800\n",
      "3  17       Sissoko  mf  1600\n",
      "4   4  Alderweireld  df  1800\n",
      "\n",
      "----명령어를 입력하세요(목록-s, 검색-f, 추가-a, 수정-u, 삭제-d, 종료-x): x\n",
      "\n",
      "[[[[[[[[[  프로그램 종료~(^.^)~~~  ]]]]]]]]]\n"
     ]
    }
   ],
   "source": [
    "dat = [[7,'Son','fw',3000],[10,'Kane','fw',3000],[20,'Ali','mf',1800],[17,'Sissoko','mf',1600],[4,'Alderweireld','df',1800]]\n",
    "\n",
    "tot = pd.DataFrame(dat,columns = ['번호','이름','부서','급여'])\n",
    "\n",
    "\n",
    "\"\"\"\"\"\"\n",
    "while True:\n",
    "    comm = input('\\n----명령어를 입력하세요(목록-s, 검색-f, 추가-a, 수정-u, 삭제-d, 종료-x): ')\n",
    "    if comm == 's':\n",
    "        print(tot)\n",
    "    elif comm == 'f':\n",
    "        print('<<<<멤버 검색>>>>')\n",
    "        wayToFind = input(' 번호로 검색하시려면 1, 부서로 검색하시려면 2를 입력하세요:')\n",
    "        if wayToFind == '1':\n",
    "            fnum = input(' 검색할 번호를 입력하세요 :')\n",
    "            for ind in tot.index:\n",
    "                if tot.loc[ind]['번호']==int(fnum):\n",
    "                    print(tot.loc[ind])\n",
    "        elif wayToFind == '2':\n",
    "            dep = input(' 검색할 부서명을 입력하세요 :')\n",
    "            print(f'\\n-----{dep}부서 명단------')\n",
    "            for ind in tot.index:\n",
    "                if tot.loc[ind]['부서'] == dep:\n",
    "                    print(tot.loc[ind]['부서'],tot.loc[ind]['번호'],tot.loc[ind]['이름'],tot.loc[ind]['급여'])\n",
    "            salMean = np.mean(tot['급여'][tot['부서']==dep])\n",
    "            salTot = np.sum(tot['급여'][tot['부서']==dep])\n",
    "            print(f'평균급여:{salMean}\\n급여합계:{salTot}')\n",
    "        else:\n",
    "            print('1 또는 2를 입력하세요')\n",
    "    elif comm == 'a':\n",
    "        print('<<<<멤버 추가>>>>')\n",
    "        info = input(' 번호 이름 부서 연봉을 띄어서 입력하세요\\n')\n",
    "        if(len(info.split())!=4):\n",
    "            print('형식에 맞추어 입력하세요')\n",
    "        else:\n",
    "            tnum, tname, tdep, tsal = int(info.split()[0]), info.split()[1], info.split()[2], int(info.split()[3])\n",
    "            tmem = np.array([(tnum, tname, tdep, tsal)],dtype=[('num','i2'),('name','U12'),('dep','U2'),('sal','i2')])\n",
    "            tot = tot.append(tmem)\n",
    "            print('저장 완료!')\n",
    "    elif comm == 'u':\n",
    "        print('<<<<멤버 수정>>>>')\n",
    "        fnum = input(' 수정할 번호를 입력하세요 :')\n",
    "        for ind in tot.index:\n",
    "            if tot.loc[ind]['번호']==int(fnum):\n",
    "                info = input(' 변경할 이름과 부서, 급여를 띄어서 입력하세요\\n')\n",
    "                tot.loc[ind]['이름'], tot.loc[ind]['부서'] = info.split(' ')[0:2]\n",
    "                tot.loc[ind]['급여'] = int(info.split(' ')[2])\n",
    "                print('수정 완료!')\n",
    "    elif comm == 'd':\n",
    "        print('<<<<멤버 삭제>>>>')\n",
    "        fnum = input('삭제할 번호를 입력하세요 :')\n",
    "        tot = np.delete(tot, np.where(tot['번호']==int(fnum)))\n",
    "        print('삭제 완료!')\n",
    "    elif comm == 'x':\n",
    "        break\n",
    "print('\\n[[[[[[[[[  프로그램 종료~(^.^)~~~  ]]]]]]]]]')"
   ]
  },
  {
   "cell_type": "markdown",
   "metadata": {},
   "source": []
  },
  {
   "cell_type": "code",
   "execution_count": null,
   "metadata": {},
   "outputs": [],
   "source": []
  },
  {
   "cell_type": "code",
   "execution_count": null,
   "metadata": {},
   "outputs": [],
   "source": []
  },
  {
   "cell_type": "code",
   "execution_count": null,
   "metadata": {},
   "outputs": [],
   "source": []
  },
  {
   "cell_type": "code",
   "execution_count": null,
   "metadata": {},
   "outputs": [],
   "source": []
  },
  {
   "cell_type": "code",
   "execution_count": null,
   "metadata": {},
   "outputs": [],
   "source": []
  }
 ],
 "metadata": {
  "kernelspec": {
   "display_name": "Python 3",
   "language": "python",
   "name": "python3"
  },
  "language_info": {
   "codemirror_mode": {
    "name": "ipython",
    "version": 3
   },
   "file_extension": ".py",
   "mimetype": "text/x-python",
   "name": "python",
   "nbconvert_exporter": "python",
   "pygments_lexer": "ipython3",
   "version": "3.8.5"
  }
 },
 "nbformat": 4,
 "nbformat_minor": 4
}
