{
 "cells": [
  {
   "cell_type": "markdown",
   "metadata": {},
   "source": [
    "<h2 style=\"color:blue;\">Python 개발환경 테스트</h2>"
   ]
  },
  {
   "cell_type": "code",
   "execution_count": 11,
   "metadata": {},
   "outputs": [
    {
     "data": {
      "text/plain": [
       "5"
      ]
     },
     "execution_count": 11,
     "metadata": {},
     "output_type": "execute_result"
    }
   ],
   "source": [
    "1+2\n",
    "2+3"
   ]
  },
  {
   "cell_type": "code",
   "execution_count": 4,
   "metadata": {
    "scrolled": true
   },
   "outputs": [
    {
     "name": "stdout",
     "output_type": "stream",
     "text": [
      "Hello\n"
     ]
    }
   ],
   "source": [
    "print('Hello')"
   ]
  },
  {
   "cell_type": "code",
   "execution_count": 1,
   "metadata": {},
   "outputs": [
    {
     "name": "stdout",
     "output_type": "stream",
     "text": [
      "3 + 5 = 8\n"
     ]
    }
   ],
   "source": [
    "%run myfile.py"
   ]
  },
  {
   "cell_type": "code",
   "execution_count": 29,
   "metadata": {},
   "outputs": [
    {
     "name": "stdout",
     "output_type": "stream",
     "text": [
      "숫자 입력 종료 = q\n",
      "숫자를 입력하세요1\n",
      "숫자를 입력하세요5\n",
      "숫자를 입력하세요3\n",
      "숫자를 입력하세요6\n",
      "숫자를 입력하세요q\n",
      "최소값 : 1, 최대값 : 6\n"
     ]
    }
   ],
   "source": [
    "# 정렬\n",
    "list1 = [2,5,1,0,3]\n",
    "list1.sort(reverse=True) #내림차순\n",
    "list1.sort() #오름차순\n",
    "sorted(list1,reverse=True) # [5,3,2,1,0]\n",
    "list1 # [0,1,2,3,5]\n",
    "\n",
    "## 키보드에서 이용자가 임의의 갯수의 숫자를 입력할 때\n",
    "## 그 숫자들 중에서 최소/최대값을 화면에 표시해보세요.\n",
    "listt = list()\n",
    "print('숫자 입력 종료 = q')\n",
    "while True:\n",
    "    listt.append(input('숫자를 입력하세요'))\n",
    "    if listt[-1] == 'q':\n",
    "        del listt[-1]\n",
    "        break\n",
    "\n",
    "listts = sorted(listt)\n",
    "print(f'최소값 : {listt[0]}, 최대값 : {listt[-1]}')"
   ]
  },
  {
   "cell_type": "code",
   "execution_count": 99,
   "metadata": {},
   "outputs": [
    {
     "name": "stdout",
     "output_type": "stream",
     "text": [
      ",로 나누어 정수를 입력하시오 : 14,23,526,124\n"
     ]
    },
    {
     "data": {
      "text/plain": [
       "526"
      ]
     },
     "execution_count": 99,
     "metadata": {},
     "output_type": "execute_result"
    }
   ],
   "source": [
    "a=input(\",로 나누어 정수를 입력하시오 : \")\n",
    "list=[]\n",
    "for i in a.split(\",\"):\n",
    "    list.append(int(i))\n",
    "sorted(list)[-1]\n"
   ]
  },
  {
   "cell_type": "code",
   "execution_count": 52,
   "metadata": {},
   "outputs": [
    {
     "name": "stdout",
     "output_type": "stream",
     "text": [
      "alice\n",
      "david\n",
      "carolina\n"
     ]
    }
   ],
   "source": [
    "magicians = ['alice','david','carolina']\n",
    "for i in magicians:\n",
    "    print(i)"
   ]
  },
  {
   "cell_type": "code",
   "execution_count": 112,
   "metadata": {},
   "outputs": [
    {
     "name": "stdout",
     "output_type": "stream",
     "text": [
      "[14, 18, 14, 6, 12, 9, 12, 5, 10, 13]\n"
     ]
    },
    {
     "data": {
      "text/plain": [
       "'최소값 : 5, 최대값 : 18'"
      ]
     },
     "execution_count": 112,
     "metadata": {},
     "output_type": "execute_result"
    }
   ],
   "source": [
    "import random\n",
    "rnum = random.randint(0,20)\n",
    "\n",
    "## 임의의 정수 10개를 추출하여 리스트에 저장하고\n",
    "## 최소/최대값을 화면에 표시\n",
    "\n",
    "list = []\n",
    "for i in range(0,10):\n",
    "    list.append(random.randint(0,20))\n",
    "    \n",
    "listSorted = sorted(list)\n",
    "print(list)\n",
    "f\"최소값 : {listSorted[0]}, 최대값 : {listSorted[-1]}\""
   ]
  },
  {
   "cell_type": "code",
   "execution_count": 7,
   "metadata": {},
   "outputs": [
    {
     "name": "stdout",
     "output_type": "stream",
     "text": [
      "입력 종료를 원하시면 x를 입력하세요: \n",
      "회원 이름을 입력하세요: x\n"
     ]
    }
   ],
   "source": [
    "## 키보드에서 회원의 이름을 입력할 때 하나씩 여러번을 입력할 수 있도록 하고 이용자가 x를 누르면\n",
    "## 회원이름 입력 작업을 끝내고 지금까지 잉ㅂ력된 모든 회원 이름을 화면에 표시한다\n",
    "\n",
    "member = list()\n",
    "print('입력 종료를 원하시면 x를 입력하세요: ')\n",
    "while True:\n",
    "    tmp = input(\"회원 이름을 입력하세요: \")\n",
    "    if(tmp=='x'):\n",
    "        break\n",
    "    member.append(tmp)\n",
    "    \n",
    "for name in member:\n",
    "    print(name.title(), end=\" \")\n",
    "    \n"
   ]
  },
  {
   "cell_type": "code",
   "execution_count": 12,
   "metadata": {},
   "outputs": [],
   "source": [
    "# list comprehension\n",
    "squares = [value**2 for value in range(1,11)]"
   ]
  },
  {
   "cell_type": "code",
   "execution_count": 1,
   "metadata": {},
   "outputs": [
    {
     "data": {
      "text/plain": [
       "[19, 13, 12, 11, 10, 10, 10, 6, 4, 1]"
      ]
     },
     "execution_count": 1,
     "metadata": {},
     "output_type": "execute_result"
    }
   ],
   "source": [
    "## 무작위 정수(0~20)를 10개 추출하여 리스트에 저장하고\n",
    "## 내림차순으로 정렬하여 화면에 표시해보세용\n",
    "\n",
    "from random import *\n",
    "rList = [randint(0,20) for v in range(0,10)]\n",
    "sorted(rList,reverse=True)"
   ]
  },
  {
   "cell_type": "code",
   "execution_count": 2,
   "metadata": {},
   "outputs": [],
   "source": [
    "class Member:\n",
    "    def __init__(self, num, name,phone):\n",
    "        self.num = num\n",
    "        self.name = name\n",
    "        self.phone = phone\n",
    "    def printMem(self):\n",
    "        print(self.num, self.name, self.phone)\n",
    "    def __str__(self):\n",
    "        return f\"{self.num} {self.name} {self.phone}\"\n"
   ]
  },
  {
   "cell_type": "code",
   "execution_count": null,
   "metadata": {},
   "outputs": [],
   "source": [
    "m = Member(11,'홍범도')\n",
    "m.printMem()\n",
    "m.name= 'Ward'\n",
    "print(m)"
   ]
  },
  {
   "cell_type": "code",
   "execution_count": null,
   "metadata": {},
   "outputs": [],
   "source": [
    "## 3인의 회원 정보를 생성하고 리스트에 저장한 후 화면에 표시\n",
    "\n",
    "m1 = Member(11,'홍범도')\n",
    "m2 = Member(12,'홍성훈')\n",
    "m3 = Member(13,'홍길동')\n",
    "hong = [m1,m2,m3]\n",
    "for h in hong:\n",
    "    print(h)"
   ]
  },
  {
   "cell_type": "code",
   "execution_count": 4,
   "metadata": {
    "scrolled": false
   },
   "outputs": [
    {
     "name": "stdout",
     "output_type": "stream",
     "text": [
      "\n",
      "--------명령어를 입력하세요--------\n",
      "추가(a), 리스트(l), 검색(s), 수정(u), 삭제(d), 종료(x)\n",
      "l\n",
      "0 시험용 010-1234-1234\n",
      "1 시험용 010-1234-1234\n",
      "2 시험용 010-1234-1234\n",
      "3 시험용 010-1234-1234\n",
      "4 시험용 010-1234-1234\n",
      "\n",
      "--------명령어를 입력하세요--------\n",
      "추가(a), 리스트(l), 검색(s), 수정(u), 삭제(d), 종료(x)\n",
      "l\n",
      "0 시험용 010-1234-1234\n",
      "1 시험용 010-1234-1234\n",
      "2 시험용 010-1234-1234\n",
      "3 시험용 010-1234-1234\n",
      "4 시험용 010-1234-1234\n",
      "\n",
      "--------명령어를 입력하세요--------\n",
      "추가(a), 리스트(l), 검색(s), 수정(u), 삭제(d), 종료(x)\n",
      "x\n",
      "프로그램을 종료합니다\n"
     ]
    }
   ],
   "source": [
    "## 키보드에서 5인의 회원정보를 입력하여 리스트에 저장하고\n",
    "## 리스트, 검색, 수정, 삭제 기능을 작성한다\n",
    "## 회원정보 : 번호, 이름, 전화\n",
    "## 프로그램이 실행되면 추가, 리스트, 검색, 수정, 삭제, 종료 메뉴를 선택할 수 있도록 한다\n",
    "\n",
    "memb=list()\n",
    "for inp in range(0,5):\n",
    "    memb.append(Member(inp,'시험용','010-1234-1234'))\n",
    "    \n",
    "while True:\n",
    "    print('\\n--------명령어를 입력하세요--------')\n",
    "    command = input('추가(a), 리스트(l), 검색(s), 수정(u), 삭제(d), 종료(x)\\n')\n",
    "    if(command=='a'):\n",
    "        tmp = input('회원정보를 입력하세요(번호,이름,전화번호): ')\n",
    "        memb.append(Member(int(tmp.split(',')[0]),tmp.split(',')[1],tmp.split(',')[2]))\n",
    "    if(command=='l'):\n",
    "        for m in memb:\n",
    "            print(m)\n",
    "    if(command=='s'):\n",
    "        tmp = int(input('정보를 찾고자 하는 회원의 번호를 입력하세요 :'))\n",
    "        for m in memb:\n",
    "            if(m.num == tmp):\n",
    "                print(m)\n",
    "    if(command=='u'):\n",
    "        tmp = int(input('수정하고자 하는 회원 번호를 입력하세요 :'))\n",
    "        for m in memb:\n",
    "            if(m.num == tmp):\n",
    "                print(m)\n",
    "        tmp2 = input('수정하고자 하는 회원 이름을 입력하세요 :')\n",
    "        tmp3 = input('수정하고자 하는 회원 전화번호를 입력하세요 :')\n",
    "        for m in memb:\n",
    "            if(m.num==tmp):\n",
    "                m.name = tmp2\n",
    "                m.phone = tmp3\n",
    "                print('변경된 회원 정보 : ',end=\"\")\n",
    "                print(m)\n",
    "    if(command=='d'):\n",
    "        tmp = int(input('삭제하고자 하는 회원 번호를 입력하세요 :'))\n",
    "        for m in memb:\n",
    "            if(m.num == tmp):\n",
    "                print(m,' 삭제되었습니다')\n",
    "                memb.remove(m)\n",
    "    if(command=='x'):\n",
    "        print('프로그램을 종료합니다')\n",
    "        break"
   ]
  },
  {
   "cell_type": "code",
   "execution_count": 8,
   "metadata": {},
   "outputs": [
    {
     "data": {
      "text/plain": [
       "34"
      ]
     },
     "execution_count": 8,
     "metadata": {},
     "output_type": "execute_result"
    }
   ],
   "source": [
    "user = ('myid','mypwd')\n",
    "uid,upwd = user\n",
    "uid\n",
    "\n",
    "a,b,c,d,e = 1,4,6,2,34\n",
    "e"
   ]
  },
  {
   "cell_type": "code",
   "execution_count": 44,
   "metadata": {},
   "outputs": [
    {
     "name": "stdout",
     "output_type": "stream",
     "text": [
      "[11, 37, 43, 51, 71]\n"
     ]
    }
   ],
   "source": [
    "# 정수(1~20)에서 중복되지 않게 홀수만 5개 무작위 추출하여 오름차순으로 화면에 표시\n",
    "from random import *\n",
    "list = []\n",
    "while True:\n",
    "    tmp = randint(1,100)\n",
    "    if (tmp not in list) & (tmp%2!=0) :\n",
    "        list.append(tmp)\n",
    "    if len(list)==5:\n",
    "        break\n",
    "        \n",
    "sort = sorted(list)\n",
    "print(sort)"
   ]
  },
  {
   "cell_type": "code",
   "execution_count": 52,
   "metadata": {},
   "outputs": [
    {
     "name": "stdout",
     "output_type": "stream",
     "text": [
      "\n",
      "Key: color\n",
      "Value: blue\n",
      "\n",
      "Key: size\n",
      "Value: big\n",
      "('color', 'blue')\n",
      "('size', 'big')\n",
      "<class 'dict'> <class 'dict_items'>\n"
     ]
    }
   ],
   "source": [
    "alien_0 = {'color':'blue','size':'big'}\n",
    "msg = alien_0.get('point','No point value assigned')\n",
    "for k, v in alien_0.items():\n",
    "    print(f\"\\nKey: {k}\")\n",
    "    print(f\"Value: {v}\")\n",
    "di = alien_0.items()\n",
    "for k in di:\n",
    "    print(k)\n",
    "print(type(alien_0), type(di))"
   ]
  },
  {
   "cell_type": "code",
   "execution_count": 63,
   "metadata": {},
   "outputs": [
    {
     "name": "stdout",
     "output_type": "stream",
     "text": [
      "\n",
      "find() ----------------------------------\n",
      "2\n",
      "\n",
      "replace() --------------------------------\n",
      "On 더 10th, former Democratic Party lawmaker \n",
      "Son Hye-won announced a legal action against Lee \n",
      "Jong-won, a pro-female-oriented civic group ``Dog\n",
      "Fighting National Movement Headquarters'' (national version) who led 더 candlelight rally to protect 더 mo더rland last year.\n",
      "\n",
      "These are all characters known as representative friends. \n",
      "After 더 current affairs critic Kim Yong-min and former \n",
      "reporter Joo Jin-woo, who hosted 더 political podcast'I'm a \n",
      "trickster', and former reporter Joo Jin-woo had a conflict, 더re was ano더r friction in 더 parental camp.\n",
      "\n",
      "The case began on 더 9th when former lawmaker Son accused 더\n",
      "community of'Son Hye-won tv' on his YouTube channel, saying, \"If 더 \n",
      "head of 더 head of Lee Jong-won had not betrayed me, 더re would have been no Open Democratic Party today.\"\n",
      "\n",
      "In 더 21st general election, 더 Democratic Party toge더r with'For \n",
      "더 Citizens' launched 더'Citizen's Party with proportional representatives' \n",
      "coalition. For 더 citizens, 더 Gaza Environmental Party, 더 Basic Income Party, \n",
      "더 Age Transition, and 더 Peace and Human Rights Party participated in 더 center of \n",
      "더 representative side. Congressman Son seems to \n",
      "have regarded this as'betrayal'.\n",
      "\n",
      "count() --------------------------------\n",
      "16\n"
     ]
    }
   ],
   "source": [
    "py = '''On the 10th, former Democratic Party lawmaker \n",
    "Son Hye-won announced a legal action against Lee \n",
    "Jong-won, a pro-female-oriented civic group ``Dog\n",
    "Fighting National Movement Headquarters'' (national version) who led the candlelight rally to protect the motherland last year.\n",
    "\n",
    "These are all characters known as representative friends. \n",
    "After the current affairs critic Kim Yong-min and former \n",
    "reporter Joo Jin-woo, who hosted the political podcast'I'm a \n",
    "trickster', and former reporter Joo Jin-woo had a conflict, there was another friction in the parental camp.\n",
    "\n",
    "The case began on the 9th when former lawmaker Son accused the\n",
    "community of'Son Hye-won tv' on his YouTube channel, saying, \"If the \n",
    "head of the head of Lee Jong-won had not betrayed me, there would have been no Open Democratic Party today.\"\n",
    "\n",
    "In the 21st general election, the Democratic Party together with'For \n",
    "the Citizens' launched the'Citizen's Party with proportional representatives' \n",
    "coalition. For the citizens, the Gaza Environmental Party, the Basic Income Party, \n",
    "the Age Transition, and the Peace and Human Rights Party participated in the center of \n",
    "the representative side. Congressman Son seems to \n",
    "have regarded this as'betrayal'.'''\n",
    "\n",
    "\n",
    "print('\\nfind() ----------------------------------')\n",
    "print(py.find(' the '))\n",
    "\n",
    "print('\\nreplace() --------------------------------')\n",
    "print(py.replace('the','더'))\n",
    "\n",
    "print('\\ncount() --------------------------------')\n",
    "print(py.count(' the '))\n"
   ]
  },
  {
   "cell_type": "code",
   "execution_count": 80,
   "metadata": {},
   "outputs": [
    {
     "name": "stdout",
     "output_type": "stream",
     "text": [
      "\n",
      "--------명령어를 입력하세요--------\n",
      "추가(a), 리스트(l), 검색(s), 수정(u), 삭제(d), 종료(x)\n",
      "a\n",
      "회원정보를 입력하세요(번호 이름 전화번호): 1216 aigo adfoij\n",
      "\n",
      "--------명령어를 입력하세요--------\n",
      "추가(a), 리스트(l), 검색(s), 수정(u), 삭제(d), 종료(x)\n",
      "l\n",
      "{'num': 0, 'name': 'smith', 'phone': '010-3123-2345'}\n",
      "{'num': 1216, 'name': 'aigo', 'phone': 'adfoij'}\n",
      "\n",
      "--------명령어를 입력하세요--------\n",
      "추가(a), 리스트(l), 검색(s), 수정(u), 삭제(d), 종료(x)\n",
      "u\n",
      "수정하고자 하는 회원 번호를 입력하세요 :1216\n",
      "{'num': 1216, 'name': 'aigo', 'phone': 'adfoij'}\n",
      "수정하고자 하는 회원 이름을 입력하세요 :smith\n",
      "수정하고자 하는 회원 전화번호를 입력하세요 :1111-1111\n",
      "-------변경된 회원 정보-------\n",
      "{'num': 1216, 'name': 'smith', 'phone': '1111-1111'}\n",
      "\n",
      "--------명령어를 입력하세요--------\n",
      "추가(a), 리스트(l), 검색(s), 수정(u), 삭제(d), 종료(x)\n",
      "l\n",
      "{'num': 0, 'name': 'smith', 'phone': '010-3123-2345'}\n",
      "{'num': 1216, 'name': 'smith', 'phone': '1111-1111'}\n",
      "\n",
      "--------명령어를 입력하세요--------\n",
      "추가(a), 리스트(l), 검색(s), 수정(u), 삭제(d), 종료(x)\n",
      "x\n",
      "프로그램을 종료합니다\n"
     ]
    }
   ],
   "source": [
    "## Dictionary를 이용한 CRUD 작성\n",
    "## 앞서 작성했던 리스트 기반의 CRUD 기능을 Member클래스를 사용하지 않고\n",
    "## Dictionary용 리스트를 사용하는 버전으로 변경해보세요.\n",
    "\n",
    "member = {'num':0,'name':'smith','phone':'010-3123-2345'}\n",
    "membList=[member]\n",
    "while True:\n",
    "    print('\\n--------명령어를 입력하세요--------')\n",
    "    command = input('추가(a), 리스트(l), 검색(s), 수정(u), 삭제(d), 종료(x)\\n')\n",
    "    if(command=='a'):\n",
    "        tmp = input('회원정보를 입력하세요(번호 이름 전화번호): ')\n",
    "        membList.append({'num':int(tmp.split(' ')[0]),\n",
    "                        'name':tmp.split(' ')[1],\n",
    "                        'phone':tmp.split(' ')[2]})\n",
    "    if(command=='l'):\n",
    "        for m in membList:\n",
    "            print(m)\n",
    "    if(command=='s'):\n",
    "        tmp = int(input('정보를 찾고자 하는 회원의 번호를 입력하세요 :'))\n",
    "        for m in membList:\n",
    "            if(m['num'] == tmp):\n",
    "                print(m)\n",
    "    if(command=='u'):\n",
    "        tmp = int(input('수정하고자 하는 회원 번호를 입력하세요 :'))\n",
    "        for m in membList:\n",
    "            if(m['num'] == tmp):\n",
    "                print(m)\n",
    "        tmp2 = input('수정하고자 하는 회원 이름을 입력하세요 :')\n",
    "        tmp3 = input('수정하고자 하는 회원 전화번호를 입력하세요 :')\n",
    "        for m in membList:\n",
    "            if(m['num']==tmp):\n",
    "                m['name'] = tmp2\n",
    "                m['phone'] = tmp3\n",
    "                print('-------변경된 회원 정보-------')\n",
    "                print(m)\n",
    "    if(command=='d'):\n",
    "        tmp = int(input('삭제하고자 하는 회원 번호를 입력하세요 :'))\n",
    "        for m in membList:\n",
    "            if(m['num'] == tmp):\n",
    "                print(m,' 삭제되었습니다')\n",
    "                membList.remove(m)\n",
    "    if(command=='x'):\n",
    "        print('프로그램을 종료합니다')\n",
    "        break"
   ]
  },
  {
   "cell_type": "code",
   "execution_count": null,
   "metadata": {},
   "outputs": [],
   "source": [
    "memb={}\n",
    "for i in range(0,3):\n",
    "    _a = input('id:')\n",
    "    _b = input('이름:')\n",
    "    memb.append({'id':_a, '이름':_b})\n"
   ]
  },
  {
   "cell_type": "code",
   "execution_count": 9,
   "metadata": {},
   "outputs": [
    {
     "name": "stdout",
     "output_type": "stream",
     "text": [
      "id:id1\n",
      "이름:name1\n",
      "id:id2\n",
      "이름:name2\n",
      "id:id3\n",
      "이름:name3\n"
     ]
    },
    {
     "data": {
      "text/plain": [
       "[{'id': 'id1', '이름': 'name1'},\n",
       " {'id': 'id2', '이름': 'name2'},\n",
       " {'id': 'id3', '이름': 'name3'}]"
      ]
     },
     "execution_count": 9,
     "metadata": {},
     "output_type": "execute_result"
    }
   ],
   "source": [
    "from operator import itemgetter \n",
    "\n",
    "\n",
    "memb=[]\n",
    "for i in range(0,3):\n",
    "    _a = input('id:')\n",
    "    _b = input('이름:')\n",
    "    memb.append({'id':_a, '이름':_b})\n",
    "\n",
    "sorted(memb, key=itemgetter('id'))\n"
   ]
  },
  {
   "cell_type": "code",
   "execution_count": 30,
   "metadata": {},
   "outputs": [
    {
     "name": "stdout",
     "output_type": "stream",
     "text": [
      "2 3 4 6 7 8 10 12 13 15 "
     ]
    }
   ],
   "source": [
    "## 무작위 정수를 중복되지 않게 10개 추출하여 오름차순으로 정렬해보세요.\n",
    "\n",
    "from random import *\n",
    "\n",
    "ints = set()\n",
    "while len(ints)<10:\n",
    "    ints.add(randint(1,15))\n",
    "\n",
    "sortedSet = sorted(ints)\n",
    "for i in sortedSet:\n",
    "    print(i, end=' ')\n",
    "\n",
    "dic = {'k':'v'}\n",
    "dic['k']='a'\n",
    "del dic['k']"
   ]
  },
  {
   "cell_type": "code",
   "execution_count": 34,
   "metadata": {},
   "outputs": [
    {
     "name": "stdout",
     "output_type": "stream",
     "text": [
      "['this', 'is', 'test']\n"
     ]
    }
   ],
   "source": [
    "## 어떤 함수에 리스트를 전달하여 그 함수 안에서 리스트에 다른 원소를 추가한 후\n",
    "## 외부에서 다시 리스트의 내용을 확인해보세요.\n",
    "\n",
    "tList = ['this','is']\n",
    "def addList (list):\n",
    "    list.append('test')\n",
    "\n",
    "addList(tList)\n",
    "print(tList)"
   ]
  },
  {
   "cell_type": "code",
   "execution_count": 37,
   "metadata": {},
   "outputs": [
    {
     "name": "stdout",
     "output_type": "stream",
     "text": [
      "번호와 이름을 입력하세요:12 diu\n"
     ]
    }
   ],
   "source": [
    "## 함수를 한 개 작성하여 키보드에서 전달되는 번호, 이름을 받아서\n",
    "## 딕셔너리로 만들어 리스트에 저장하는 기능 작성\n",
    "def addList():\n",
    "    inp = input('번호와 이름을 입력하세요:')\n",
    "    num = inp.split()[0]\n",
    "    name = inp.split()[1]\n",
    "    return {'num':num,'name':name}\n",
    "\n",
    "memList=[]\n",
    "memList.append(addList())\n"
   ]
  },
  {
   "cell_type": "code",
   "execution_count": 39,
   "metadata": {
    "scrolled": true
   },
   "outputs": [
    {
     "name": "stdout",
     "output_type": "stream",
     "text": [
      "번호 이름12 ㅁㄹ\n",
      "[{'num': '12', 'name': 'ㅁㄹ'}]\n"
     ]
    }
   ],
   "source": [
    "ulist = []\n",
    "def get_data(**user):\n",
    "    ulist.append(user)\n",
    "    print(ulist)\n",
    "\n",
    "info = input(\"번호 이름\")\n",
    "data = info.split(' ')\n",
    "get_data(num=data[0],name=data[1])\n"
   ]
  },
  {
   "cell_type": "code",
   "execution_count": 50,
   "metadata": {},
   "outputs": [
    {
     "name": "stdout",
     "output_type": "stream",
     "text": [
      "번호와 이름을 입력하세요13 ㅁㅇㄴㄹ\n",
      "{'num': '13', 'name': 'ㅁㅇㄴㄹ'}\n"
     ]
    }
   ],
   "source": [
    "## 키보드에서 회원정보(번호, 이름) 한 개를 입력받아서 딕셔너리 포맷으로 리턴해주는\n",
    "## 함수를 작성하고 user.py 파일에 저장\n",
    "## 함수명 = getUserInfo()\n",
    "## 다른 위치에서 user.py를 사용해보세요\n",
    "from user import getUserInfo as ui\n",
    "\n",
    "dictionary = ui()\n",
    "print(dictionary)"
   ]
  },
  {
   "cell_type": "code",
   "execution_count": 3,
   "metadata": {},
   "outputs": [
    {
     "name": "stdout",
     "output_type": "stream",
     "text": [
      "11 smith 010-1234-1234\n",
      "12 johney 010-4444-3333\n",
      "13 hanyoung 010-2323-3232\n",
      "14 haribo 010-4534-1245\n",
      "15 oreo 010-4214-4165\n"
     ]
    }
   ],
   "source": [
    "## user.py 안에 Member 클래스를 선언한다\n",
    "## 속성 : num, name, phone\n",
    "## jupyter notebook의 작업 디렉토리에 members.csv파일을 생성하고,\n",
    "## 그 파일 안에 5명분의 회원정보를 한행씩 5행을 저장한다\n",
    "\n",
    "from member import Member\n",
    "\n",
    "members=[]\n",
    "\n",
    "def printMem(mlist):\n",
    "    for m in mlist:\n",
    "        print(m)\n",
    "\n",
    "with open('members.csv') as file_object:\n",
    "    for line in file_object:\n",
    "        num, name, phone = line.strip().split(',')\n",
    "        members.append(Member(num, name, phone))\n",
    "\n",
    "for mem in members:\n",
    "    print(mem)\n",
    "\n"
   ]
  },
  {
   "cell_type": "code",
   "execution_count": 16,
   "metadata": {},
   "outputs": [
    {
     "name": "stdout",
     "output_type": "stream",
     "text": [
      "11,smith,010-1234-1234\n",
      "12,johney,010-4444-3333\n",
      "13,hanyoung,010-2323-3232\n",
      "14,haribo,010-4534-1245\n",
      "15,oreo,010-4214-416520,hell o,010-1234-4321\n",
      "\n",
      "21,???,010\n",
      "\n",
      "22,wtf,010-1323-1455\n",
      "명령어를 입력하세요(추가=a, 검색=f, 종료=x)\n",
      "f\n",
      "검색할 번호를 입력하세요12\n",
      "12,johney,010-4444-3333\n",
      "명령어를 입력하세요(추가=a, 검색=f, 종료=x)\n",
      "a\n",
      "번호,이름,전화 :24,myname,myphone\n",
      "명령어를 입력하세요(추가=a, 검색=f, 종료=x)\n",
      "f\n",
      "검색할 번호를 입력하세요24\n",
      "24,myname,myphone\n",
      "명령어를 입력하세요(추가=a, 검색=f, 종료=x)\n",
      "f\n",
      "검색할 번호를 입력하세요11\n",
      "11,smith,010-1234-1234\n",
      "명령어를 입력하세요(추가=a, 검색=f, 종료=x)\n",
      "x\n"
     ]
    }
   ],
   "source": [
    "## 키보드에서 num, name, phone 를 입력받고 members.csv파일에 추가하는 기능 작성\n",
    "## 추가(a), 검색(f)\n",
    "\n",
    "command=''\n",
    "memList=[]    \n",
    "\n",
    "with open('members.csv') as file_obj:\n",
    "    for line in file_obj:\n",
    "        print(line.strip())\n",
    "\n",
    "while command != 'x':\n",
    "    print('명령어를 입력하세요(추가=a, 검색=f, 종료=x)')\n",
    "    command = input()\n",
    "    \n",
    "    if command == 'a':\n",
    "        with open('members.csv', 'a') as file_obj:\n",
    "            info = input('번호,이름,전화 :')\n",
    "            file_obj.write('\\n'+info)\n",
    "            \n",
    "    elif command == 'f':\n",
    "        fnum = input('검색할 번호를 입력하세요')\n",
    "        with open('members.csv') as file_obj:\n",
    "            for line in file_obj:\n",
    "                num = line.strip().split(',')[0]\n",
    "                if num==fnum:\n",
    "                    print(line.strip())"
   ]
  },
  {
   "cell_type": "code",
   "execution_count": null,
   "metadata": {},
   "outputs": [],
   "source": []
  }
 ],
 "metadata": {
  "kernelspec": {
   "display_name": "Python 3",
   "language": "python",
   "name": "python3"
  },
  "language_info": {
   "codemirror_mode": {
    "name": "ipython",
    "version": 3
   },
   "file_extension": ".py",
   "mimetype": "text/x-python",
   "name": "python",
   "nbconvert_exporter": "python",
   "pygments_lexer": "ipython3",
   "version": "3.8.5"
  }
 },
 "nbformat": 4,
 "nbformat_minor": 4
}
