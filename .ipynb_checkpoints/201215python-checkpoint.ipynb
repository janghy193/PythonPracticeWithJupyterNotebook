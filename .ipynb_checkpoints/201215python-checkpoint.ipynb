{
 "cells": [
  {
   "cell_type": "code",
   "execution_count": 22,
   "metadata": {},
   "outputs": [
    {
     "data": {
      "text/plain": [
       "array([[1, 2],\n",
       "       [7, 8]])"
      ]
     },
     "execution_count": 22,
     "metadata": {},
     "output_type": "execute_result"
    }
   ],
   "source": [
    "import numpy as np\n",
    "a = np.arange(1,10).reshape(3,3)\n",
    "a[[0,2], 0:2]"
   ]
  },
  {
   "cell_type": "code",
   "execution_count": 157,
   "metadata": {},
   "outputs": [
    {
     "name": "stdout",
     "output_type": "stream",
     "text": [
      "[[1 2 3]\n",
      " [4 5 6]\n",
      " [7 8 9]]\n",
      "[1, 2, 3, 4, 5, 6, 7, 8, 9]\n",
      "[[  1   2   3]\n",
      " [  4   5   6]\n",
      " [100 100 100]]\n",
      "[100, 4, 5]\n",
      "[[100 100 100]\n",
      " [  4   5   6]\n",
      " [100 100 100]]\n"
     ]
    }
   ],
   "source": [
    "## 파이썬 리스트를 사용하여 2~5번의 원소를 추출하고\n",
    "## 추출된 하위 리스트의 첫 번째 항에 100을 할당한다\n",
    "## 그리고 원본 리스트의 2번 항에 어떤 값이 있는지 조사\n",
    "## 동일한 내용으로 Numpy 배열에도 적용하여 검사한다\n",
    "a = np.arange(1,10)\n",
    "b = [1,2,3,4,5,6,7,8,9]\n",
    "\n",
    "print(a)\n",
    "print(b)\n",
    "\n",
    "list = a[2:5]\n",
    "list[0] = 100\n",
    "\n",
    "list2 = b[2:5]\n",
    "list2[0] = 100\n",
    "print(a)\n",
    "print(list2)\n",
    "a[0] = 100\n",
    "print(a)"
   ]
  },
  {
   "cell_type": "code",
   "execution_count": 46,
   "metadata": {},
   "outputs": [
    {
     "name": "stdout",
     "output_type": "stream",
     "text": [
      "2번째 행 평균: 8.0\n",
      "3번째 행 평균: 13.0\n",
      "3번째 행 3~5번 원소 합: 27\n",
      "4번째 컬럼 전체의 분산: 50.0\n",
      "5번째 행 전체의 표준편차: 1.4142135623730951\n"
     ]
    }
   ],
   "source": [
    "## 1~25(포함)까지 5x5행렬(2차원 ndarray)을 생성하고 2번째 행만 추출하여 평균을 구하여 표시하고,\n",
    "## 3번째 컬럼만 추출하여 평균을 구해서 표시해보세요.\n",
    "## 3번째 행의 3,4,5번째 컬럼의 값을 합산하여 표시해보세요.\n",
    "## 4번째 컬럼 전체의 분산(np.var(arr)) 구하기, 5번째 행 전체의 표준편차 구하기\n",
    "a = np.arange(1,26).reshape(5,5)\n",
    "slice1 = a[1,:]\n",
    "slice2 = a[2,:]\n",
    "\n",
    "print('2번째 행 평균:',slice1.mean())\n",
    "\n",
    "print('3번째 행 평균:',slice2.mean())\n",
    "\n",
    "print('3번째 행 3~5번 원소 합:',slice2[2:4].sum())\n",
    "\n",
    "slice3 = a[:,3]\n",
    "print('4번째 컬럼 전체의 분산:',np.var(slice3))\n",
    "slice4 = a[4,:]\n",
    "print('5번째 행 전체의 표준편차:',np.sqrt(np.var(slice4)))"
   ]
  },
  {
   "cell_type": "markdown",
   "metadata": {},
   "source": [
    "# Boolean Indexing 응용\n",
    "zeros()를 사용하여 3x3행렬을 생성하고 가운데 컬럼의 값 중에서 2,3번째 행의 값을 1로 설정한다\n",
    "이어서 0으로 설정된 값을 모두 5로 변경하고 화면에 표시"
   ]
  },
  {
   "cell_type": "code",
   "execution_count": 61,
   "metadata": {},
   "outputs": [
    {
     "name": "stdout",
     "output_type": "stream",
     "text": [
      "[[5. 5. 5.]\n",
      " [5. 1. 5.]\n",
      " [5. 1. 5.]]\n"
     ]
    }
   ],
   "source": [
    "zArr = np.zeros([3,3])\n",
    "zArr[1:3,1]=1\n",
    "zArr[zArr==0]=5\n",
    "print(zArr)"
   ]
  },
  {
   "cell_type": "markdown",
   "metadata": {},
   "source": [
    "<h1>#ravel 테스트</h1>\n",
    "#2차원 행렬을 생성하고 ravel()을 사용하여 1차원으로 변경한 후에 1차원 배열의 원소를 몇개 수정하고\n",
    "원본의 원소가 변경되었는지 확인한다"
   ]
  },
  {
   "cell_type": "code",
   "execution_count": 66,
   "metadata": {},
   "outputs": [
    {
     "name": "stdout",
     "output_type": "stream",
     "text": [
      "[[ 1  2  3]\n",
      " [99 99  6]\n",
      " [ 7  8  9]]\n"
     ]
    }
   ],
   "source": [
    "a = np.arange(1,10).reshape(3,3)\n",
    "b = np.ravel(a)\n",
    "b[3:5] = 99\n",
    "print(a)"
   ]
  },
  {
   "cell_type": "markdown",
   "metadata": {},
   "source": [
    "<h1>transpose</h1>\n",
    "numpy를 사용하여 1~9까지의 1차원 배열을 생성하고 원본을 3x3행렬로 변경한다<br>\n",
    "이 결과 행렬의 전치행렬을 구해서 표시한다"
   ]
  },
  {
   "cell_type": "code",
   "execution_count": 76,
   "metadata": {},
   "outputs": [
    {
     "name": "stdout",
     "output_type": "stream",
     "text": [
      "[[1 2 3]\n",
      " [4 5 6]\n",
      " [7 8 9]]\n",
      "[[ 1  2  3]\n",
      " [ 4 99  6]\n",
      " [ 7  8  9]]\n",
      "[[ 1  4  7]\n",
      " [ 2 99  8]\n",
      " [ 3  6  9]]\n"
     ]
    }
   ],
   "source": [
    "a = np.arange(1,10)\n",
    "a.shape=[3,3]\n",
    "print(a)\n",
    "b = np.transpose(a)\n",
    "b[1,1] = 99\n",
    "print(a)\n",
    "print(b)"
   ]
  },
  {
   "cell_type": "markdown",
   "metadata": {},
   "source": [
    "# <h1>Array Manipulate</h1>\n",
    "2차원(2x3) 임의의 정수(20이하) 배열(A)을 생성하고 2차원 (2x3) 0 배열(B)를 생성한다<br>\n",
    "A,B를 수평으로 결합하여 생성된 C배열을 생성한다.<br>\n",
    "C배열의 원소를 변경했을 때 원본 배열의 영향은?"
   ]
  },
  {
   "cell_type": "code",
   "execution_count": 155,
   "metadata": {},
   "outputs": [
    {
     "name": "stdout",
     "output_type": "stream",
     "text": [
      "[[ 7. 12. 13.  0.  0.  0.]\n",
      " [19. 11. 12.  0.  0.  0.]] \n",
      "\n",
      "[[ 7. 99. 13. 88. 99. 88.]\n",
      " [19. 11. 12. 88. 88. 88.]] \n",
      "\n",
      "[[ 7. 12. 13.  0.  0.  0.]\n",
      " [19. 11. 12.  0.  0.  0.]]\n"
     ]
    }
   ],
   "source": [
    "A = np.random.randint(21,size=(2,3))\n",
    "B = np.zeros([2,3])\n",
    "C = np.hstack((A,B))\n",
    "print(C,'\\n')\n",
    "C[0,[1,4]] = 99\n",
    "C[C==0]=88\n",
    "print(C,'\\n')\n",
    "print(np.hstack((A,B)))"
   ]
  },
  {
   "cell_type": "markdown",
   "metadata": {},
   "source": [
    "<h1>split, stack practice</h1>\n",
    "3개의 행렬 생성 ==> [1,2,3], [4,5,6], [7,8,9]<br>\n",
    "* 이들 행렬을 컬럼으로 사용하여 D 행렬 생성<br>\n",
    "* 이들 행렬을 행으로 사용하여 E 행렬 생성<br>\n",
    "* D,E 행렬을 수직으로 합쳐서 H 행렬 생성<br>\n",
    "* D의 수직 합계, E의 수평 합계를 수평으로 합쳐서 I 행렬 생성<br>\n",
    "* H행렬의 첫번째, 세번째 컬럼 수평합계 산출"
   ]
  },
  {
   "cell_type": "code",
   "execution_count": 223,
   "metadata": {},
   "outputs": [
    {
     "name": "stdout",
     "output_type": "stream",
     "text": [
      "A행렬: [1 2 3] \n",
      "B행렬: [4 5 6] \n",
      "C행렬: [7 8 9]\n",
      "---D행렬:\n",
      " [[1 4 7]\n",
      " [2 5 8]\n",
      " [3 6 9]] \n",
      "\n",
      "---E행렬:\n",
      " [[1 2 3]\n",
      " [4 5 6]\n",
      " [7 8 9]]\n",
      "\n",
      "---H행렬:\n",
      " [[1 4 7]\n",
      " [2 5 8]\n",
      " [3 6 9]\n",
      " [1 2 3]\n",
      " [4 5 6]\n",
      " [7 8 9]]\n",
      "\n",
      "---I행렬:\n",
      " [ 6 15 24  6 15 24]\n",
      "\n",
      "H1행렬:\n",
      " [[1]\n",
      " [2]\n",
      " [3]\n",
      " [1]\n",
      " [4]\n",
      " [7]] \n",
      "H2행렬:\n",
      " [[4]\n",
      " [5]\n",
      " [6]\n",
      " [2]\n",
      " [5]\n",
      " [8]] \n",
      "H3행렬:\n",
      " [[7]\n",
      " [8]\n",
      " [9]\n",
      " [3]\n",
      " [6]\n",
      " [9]]\n",
      "\n",
      "---H행렬 첫 번째, 세 번째 컬럼 결합:\n",
      " [[1 7]\n",
      " [2 8]\n",
      " [3 9]\n",
      " [1 3]\n",
      " [4 6]\n",
      " [7 9]]\n",
      "\n",
      "H행렬의 첫 번째, 세 번째 컬럼 수평 합계 : [ 8 10 12  4 10 16]\n"
     ]
    }
   ],
   "source": [
    "arr = np.arange(1,10).reshape(3,3)\n",
    "A,B,C = np.vsplit(arr,3) # 상하로 나뉘도록 3칸으로 쪼개기\n",
    "A = np.ravel(A)   # 1차원 리스트로 전환\n",
    "B = np.ravel(B)\n",
    "C = np.ravel(C)\n",
    "print('A행렬:',A,'\\nB행렬:',B,'\\nC행렬:',C)\n",
    "\n",
    "D = np.column_stack((A,B,C))\n",
    "E = np.row_stack((A,B,C))\n",
    "print('---D행렬:\\n',D,'\\n\\n---E행렬:\\n',E)\n",
    "H = np.vstack((D,E))\n",
    "print('\\n---H행렬:\\n',H)\n",
    "I = np.hstack((np.apply_along_axis(np.sum, axis=0, arr=D),np.apply_along_axis(np.sum, axis=1, arr=E)))\n",
    "print('\\n---I행렬:\\n',I)\n",
    "H1,H2,H3 = np.split(H,[1,2],axis=1)\n",
    "print('\\nH1행렬:\\n',H1,'\\nH2행렬:\\n',H2,'\\nH3행렬:\\n',H3)\n",
    "J = np.column_stack((H[:,0],H[:,2]))\n",
    "print('\\n---H행렬 첫 번째, 세 번째 컬럼 결합:\\n',J)\n",
    "print('\\nH행렬의 첫 번째, 세 번째 컬럼 수평 합계 :',np.apply_along_axis(np.sum, axis=1, arr=J))"
   ]
  },
  {
   "cell_type": "code",
   "execution_count": 229,
   "metadata": {},
   "outputs": [
    {
     "name": "stdout",
     "output_type": "stream",
     "text": [
      "[1 2 3 4] <class 'numpy.ndarray'>\n",
      "[ 1 99  3  4]\n"
     ]
    }
   ],
   "source": [
    "a = np.array([1,2,3,4])\n",
    "b = a.copy()\n",
    "b[1]=99\n",
    "print(a,type(a))\n",
    "print(b)"
   ]
  },
  {
   "cell_type": "markdown",
   "metadata": {},
   "source": [
    "<h1>Structured Array</h1>\n",
    "번호, 이름, 나이, 급여액, 근무연수 3사람 분 데이터 만들어 화면에 출력"
   ]
  },
  {
   "cell_type": "code",
   "execution_count": 254,
   "metadata": {},
   "outputs": [
    {
     "name": "stdout",
     "output_type": "stream",
     "text": [
      "[b'Son' b'Kane' b'Ali' b'Hojbjer']\n",
      "최대급여와 최소급여 차 : 1500\n",
      "[( 7, b'Son', 28, 3000,  6) (10, b'Kane', 27, 3000, 10)\n",
      " (20, b'Ali', 24, 1500,  8) ( 5, b'Hojbjer', 25, 1800,  1)]\n"
     ]
    }
   ],
   "source": [
    "structured = np.array([(7,'Son',28,3000,6),(10,'Kane',27,3000,10),(20,'Ali',24,1500,8),(5,'Hojbjer',25,1800,1)],\n",
    "                      dtype=[('num','int8'),('name','a20'),('age','int8'),('salary','int32'),('working year','int8')])\n",
    "\n",
    "print(structured['name'])\n",
    "print('최대급여와 최소급여 차 :', structured['salary'].max()-structured['salary'].min())\n",
    "print(structured)"
   ]
  }
 ],
 "metadata": {
  "kernelspec": {
   "display_name": "Python 3",
   "language": "python",
   "name": "python3"
  },
  "language_info": {
   "codemirror_mode": {
    "name": "ipython",
    "version": 3
   },
   "file_extension": ".py",
   "mimetype": "text/x-python",
   "name": "python",
   "nbconvert_exporter": "python",
   "pygments_lexer": "ipython3",
   "version": "3.8.5"
  }
 },
 "nbformat": 4,
 "nbformat_minor": 4
}
