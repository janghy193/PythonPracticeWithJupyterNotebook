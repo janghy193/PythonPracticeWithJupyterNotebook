{
 "cells": [
  {
   "cell_type": "markdown",
   "metadata": {},
   "source": [
    "<h1>NumPy array File Streaming</h1><br>\n",
    "numpy를 이용하여 임의의 정수 행렬(4x4)를 생성하고 화면에 표시한다.<br>\n",
    "그 행렬을 파일에 저장한 후에, 다시 로드하여 다시 화면에 표시한다."
   ]
  },
  {
   "cell_type": "code",
   "execution_count": 29,
   "metadata": {},
   "outputs": [
    {
     "name": "stdout",
     "output_type": "stream",
     "text": [
      "arr1:\n",
      " [[ 6  4 17 19]\n",
      " [18  7  4 19]\n",
      " [13  5 12  7]\n",
      " [ 8 17 19  8]]\n",
      "\n",
      "arr2 -파일에서 로드한 arr1-\n",
      " [[18 20  2  4]\n",
      " [ 5 10  2  4]\n",
      " [13 13 15  4]\n",
      " [ 3 10  9 18]]\n"
     ]
    }
   ],
   "source": [
    "import numpy as np\n",
    "arr1 = np.random.randint(1,21,16).reshape(4,4)\n",
    "print('arr1:\\n',arr1)\n",
    "\n",
    "#np.save('arr1',arr1)\n",
    "arr2 = np.load('arr1.npy')\n",
    "print('\\narr2 -파일에서 로드한 arr1-\\n',arr2)"
   ]
  },
  {
   "cell_type": "code",
   "execution_count": 49,
   "metadata": {},
   "outputs": [
    {
     "name": "stdout",
     "output_type": "stream",
     "text": [
      "[(11, 'Ward', b'010-2532-1245') (12, 'Olie', b'010-4535-6875')\n",
      " (13, 'David', b'010-5985-5831')]\n",
      "int32\n",
      "[False False False False False]\n",
      "['nan' '1' '2' '3' '4']\n"
     ]
    },
    {
     "data": {
      "text/plain": [
       "array([0, 1, 2, 3, 4])"
      ]
     },
     "execution_count": 49,
     "metadata": {},
     "output_type": "execute_result"
    }
   ],
   "source": [
    "# Structured array로 테스트\n",
    "struct = np.array([(11,'Ward','010-2532-1245'),\n",
    "                  (12,'Olie','010-4535-6875'),\n",
    "                  (13,'David','010-5985-5831')],\n",
    "                 dtype=[('num','i2'),('name','U6'),('phone','a15')])\n",
    "np.save('user',struct)\n",
    "struct2 = np.load('user.npy')\n",
    "print(struct2)\n",
    "\n",
    "#isnan 사용예\n",
    "arr = np.arange(0,5)\n",
    "#arr[:]= np.nan  # 정수공간에 np.nan을 설정할 수 없음\n",
    "print(arr.dtype) # int32\n",
    "print(np.isnan(arr)) # [False False False False False]\n",
    "\n",
    "s_arr = arr.astype(np.str) # 문자열 배열로 자료형 변환\n",
    "s_arr[0] = np.nan # 문자열 공간에는 np.nan 설정 가능\n",
    "#s_arr[:] = np.nan\n",
    "print(s_arr)\n",
    "\n",
    "s_arr[s_arr=='nan'] = 0  # 'nan'을 '0'으로 변환\n",
    "s_arr.astype(np.int)    # 자료형은 int형으로 변환"
   ]
  },
  {
   "cell_type": "markdown",
   "metadata": {},
   "source": [
    "<h2>np.genfromtxt()로 csv파일 읽기</h2>"
   ]
  },
  {
   "cell_type": "code",
   "execution_count": 48,
   "metadata": {},
   "outputs": [
    {
     "name": "stdout",
     "output_type": "stream",
     "text": [
      "[(1., 123.,  1.4, 23.) (2.,  nan, 21.4, 18.) (3., 164.,  nan, 19.)]\n",
      "[(1., 123.,  1.4, 23.) (2.,   0., 21.4, 18.) (3., 164.,  0. , 19.)]\n"
     ]
    }
   ],
   "source": [
    "import pandas as pd\n",
    "\n",
    "data2 = np.genfromtxt('ch3_data.csv',delimiter=',',names=True)\n",
    "print(data2)\n",
    "#df = pd.read_csv('ch3_data.csv')    # pandas 모듈 사용하는 방법\n",
    "#df.fillna(0, inplace=True)\n",
    "#df\n",
    "v1 = data2['value1']\n",
    "v1[np.isnan(v1)] = 0    # 불리언 인덱스 추출할 용도로 np.isnan() 활용\n",
    "\n",
    "v2 = data2['value2']\n",
    "v2[np.isnan(v2)] = 0\n",
    "\n",
    "print(data2)"
   ]
  },
  {
   "cell_type": "markdown",
   "metadata": {},
   "source": [
    "<h1>NumPy 종합 실습</h1><br>\n",
    "employee.csv에 5명분의 데이터 저장<br>\n",
    "필드명: num, name, dep, sal, hiredate<br><br>\n",
    "\n",
    "메뉴: 목록(s), 검색(f), 추가(a), 수정(u), 삭제(d), 종료(x)<br>\n",
    "<br>\n",
    "번호로 검색<br>\n",
    "부서번호로 검색<br>\n",
    "- 부서별 급여평균/합계(부서별 검색시 제시)"
   ]
  },
  {
   "cell_type": "code",
   "execution_count": 50,
   "metadata": {
    "scrolled": true
   },
   "outputs": [
    {
     "name": "stdout",
     "output_type": "stream",
     "text": [
      "\n",
      "----명령어를 입력하세요(검색-f, 추가-a, 수정-u, 삭제-d, 종료-x): x\n",
      "\n",
      "[[[[[[[[[  프로그램 종료~^.^~~~  ]]]]]]]]]\n"
     ]
    }
   ],
   "source": [
    "import numpy as np\n",
    "\n",
    "while True:\n",
    "    tot = np.genfromtxt('employee.csv',delimiter=',',\n",
    "                    dtype=[('num','i2'),('name','U12'),('dep','U2'),('sal','i2'),('hiredate','U10')])\n",
    "    comm = input('\\n----명령어를 입력하세요(검색-f, 추가-a, 수정-u, 삭제-d, 종료-x): ')\n",
    "    if comm == 's':\n",
    "        print(tot)\n",
    "    elif comm == 'f':\n",
    "        print('<<<<멤버 검색>>>>')\n",
    "        wayToFind = input(' 번호로 검색하시려면 1, 부서로 검색하시려면 2를 입력하세요:')\n",
    "        if wayToFind == '1':\n",
    "            fnum = input(' 검색할 번호를 입력하세요 :')\n",
    "            for mem in tot:\n",
    "                if mem['num']==int(fnum):\n",
    "                    print(mem)\n",
    "        elif wayToFind == '2':\n",
    "            dep = input(' 검색할 부서명을 입력하세요 :')\n",
    "            print(f'\\n-----{dep}부서 명단------')\n",
    "            for mem in tot:\n",
    "                if mem['dep'] == dep:\n",
    "                    print(mem)\n",
    "            salMean = np.mean(tot['sal'][tot['dep']==dep])\n",
    "            salTot = np.sum(tot['sal'][tot['dep']==dep])\n",
    "            print(f'평균급여:{salMean}\\n급여합계:{salTot}')\n",
    "        else:\n",
    "            print('1 또는 2를 입력하세요')\n",
    "    elif comm == 'a':\n",
    "        print('<<<<멤버 추가>>>>')\n",
    "        info = input(' 번호 이름 부서 연봉 입사일을 띄어서 입력하세요\\n')\n",
    "        if(len(info.split())!=5):\n",
    "            print('형식에 맞추어 입력하세요')\n",
    "        else:\n",
    "            tnum, tname, tdep, tsal, thiredate = int(info.split()[0]), info.split()[1], info.split()[2], int(info.split()[3]), info.split()[4]\n",
    "            tmem = np.array([(tnum, tname, tdep, tsal, thiredate)],dtype=[('num','i2'),('name','U12'),('dep','U2'),('sal','i2'),('hiredate','U10')])\n",
    "            tot = np.hstack((tot,tmem))\n",
    "            np.savetxt('employee.csv',tot,delimiter=',',fmt='%d,%s,%s,%d,%s')\n",
    "            print('저장 완료!')\n",
    "    elif comm == 'u':\n",
    "        print('<<<<멤버 수정>>>>')\n",
    "        fnum = input(' 수정할 번호를 입력하세요 :')\n",
    "        for mem in tot:\n",
    "            if mem['num']==int(fnum):\n",
    "                info = input(' 변경할 이름과 부서를 띄어서 입력하세요\\n')\n",
    "                mem['name'], mem['dep'] = info.split(' ')\n",
    "                np.savetxt('employee.csv',tot,delimiter=',',fmt='%d,%s,%s,%d,%s')\n",
    "                print('수정 완료!')\n",
    "    elif comm == 'd':\n",
    "        print('<<<<멤버 삭제>>>>')\n",
    "        fnum = input('삭제할 번호를 입력하세요 :')\n",
    "        \n",
    "        tot = np.delete(tot, np.where(tot['num']==int(fnum)))\n",
    "        np.savetxt('employee.csv',tot,delimiter=',',fmt='%d,%s,%s,%d,%s')\n",
    "        print('삭제 완료!')\n",
    "    elif comm == 'x':\n",
    "        break\n",
    "print('\\n[[[[[[[[[  프로그램 종료~(^.^)~~~  ]]]]]]]]]')"
   ]
  },
  {
   "cell_type": "code",
   "execution_count": null,
   "metadata": {},
   "outputs": [],
   "source": []
  },
  {
   "cell_type": "code",
   "execution_count": null,
   "metadata": {},
   "outputs": [],
   "source": []
  }
 ],
 "metadata": {
  "kernelspec": {
   "display_name": "Python 3",
   "language": "python",
   "name": "python3"
  },
  "language_info": {
   "codemirror_mode": {
    "name": "ipython",
    "version": 3
   },
   "file_extension": ".py",
   "mimetype": "text/x-python",
   "name": "python",
   "nbconvert_exporter": "python",
   "pygments_lexer": "ipython3",
   "version": "3.8.5"
  }
 },
 "nbformat": 4,
 "nbformat_minor": 4
}
